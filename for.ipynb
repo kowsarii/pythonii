{
 "cells": [
  {
   "cell_type": "code",
   "execution_count": 4,
   "id": "13a83000-1bfa-4948-a9d2-02df2de4f810",
   "metadata": {},
   "outputs": [
    {
     "name": "stdout",
     "output_type": "stream",
     "text": [
      " 1. you have 15 years\n",
      "2.you have 15 years\n"
     ]
    }
   ],
   "source": [
    "#F string\n",
    "age=15\n",
    "print(f' 1. you have {age} years')  #intori minevisim be jaye payini\n",
    "print(\"2.you have\",age ,\"years\")"
   ]
  },
  {
   "cell_type": "code",
   "execution_count": 5,
   "id": "3938abf1-28e6-4cff-9527-6cf4263ccf43",
   "metadata": {},
   "outputs": [],
   "source": [
    "#lesson is For"
   ]
  },
  {
   "cell_type": "code",
   "execution_count": 6,
   "id": "805130b3-742e-43fd-aae7-fb222ee86041",
   "metadata": {},
   "outputs": [
    {
     "name": "stdout",
     "output_type": "stream",
     "text": [
      "2\n",
      "4\n",
      "6\n",
      "8\n",
      "10\n"
     ]
    }
   ],
   "source": [
    "num=[1,2,3,4,5]\n",
    "for x in num:\n",
    "    print(x*2)"
   ]
  },
  {
   "cell_type": "code",
   "execution_count": 7,
   "id": "028a1abc-041a-49a9-a072-ceed2566a859",
   "metadata": {},
   "outputs": [
    {
     "name": "stdout",
     "output_type": "stream",
     "text": [
      "[2, 4, 6, 8, 10]\n"
     ]
    }
   ],
   "source": [
    "num=[1,2,3,4,5]\n",
    "num2=[]\n",
    "for x in num:\n",
    "    num2.append(x*2)\n",
    "print(num2)\n",
    "    "
   ]
  },
  {
   "cell_type": "code",
   "execution_count": 8,
   "id": "988eaaeb-b26e-4a0f-b236-bea835feea4a",
   "metadata": {},
   "outputs": [
    {
     "name": "stdout",
     "output_type": "stream",
     "text": [
      "[204, 216, 228, 240, 252, 264, 276, 288, 300, 312, 324, 336, 348, 360, 372, 384, 396]\n"
     ]
    }
   ],
   "source": [
    "num3=[]\n",
    "num4=[]\n",
    "i=102\n",
    "while i<=200 :\n",
    "    num3.append(i)\n",
    "    i+=6\n",
    "for n in num3:\n",
    "    num4.append(n*2)\n",
    "print(num4)"
   ]
  },
  {
   "cell_type": "code",
   "execution_count": 9,
   "id": "c67b9c07-b0f8-47c8-9ae9-6d32046f8330",
   "metadata": {},
   "outputs": [
    {
     "name": "stdout",
     "output_type": "stream",
     "text": [
      "Sanam\n",
      "Sara\n",
      "Leyli\n",
      "Bahare\n",
      "Sanaz\n",
      "Nazli\n"
     ]
    }
   ],
   "source": [
    "name=['sanam','sara','leyli','bahare','sanaz','nazli']\n",
    "for c in name:\n",
    "    print(c.capitalize())"
   ]
  },
  {
   "cell_type": "code",
   "execution_count": 13,
   "id": "22c9eb26-165a-4e2a-9d2a-520f9718e845",
   "metadata": {},
   "outputs": [
    {
     "name": "stdout",
     "output_type": "stream",
     "text": [
      "Sanam\n",
      "Sara\n",
      "Leyli\n",
      "Bahare\n",
      "Sanaz\n",
      "Nazli\n",
      "['sanam', 'sara', 'leyli', 'bahare', 'sanaz', 'nazli']\n"
     ]
    }
   ],
   "source": [
    "name=['sanam','sara','leyli','bahare','sanaz','nazli']\n",
    "name2=[]\n",
    "for c in name:\n",
    "    print(c.capitalize())\n",
    "for c in name:\n",
    "    c.capitalize()\n",
    "    name2.append(c)\n",
    "print(name2)"
   ]
  },
  {
   "cell_type": "code",
   "execution_count": null,
   "id": "ebdb31ea-9415-4dd8-b338-43f573809300",
   "metadata": {},
   "outputs": [],
   "source": [
    "i=1\n",
    "li1=[]\n",
    "li2=[]\n",
    "li3=[]\n",
    "while i<=100:\n",
    "    li1.append(i)\n",
    "    i+=1\n",
    "for x in li1:\n",
    "    "
   ]
  },
  {
   "cell_type": "code",
   "execution_count": null,
   "id": "9003ba3f-c0ec-42c4-bc58-f1ddbd90df03",
   "metadata": {},
   "outputs": [],
   "source": []
  }
 ],
 "metadata": {
  "kernelspec": {
   "display_name": "Python 3 (ipykernel)",
   "language": "python",
   "name": "python3"
  },
  "language_info": {
   "codemirror_mode": {
    "name": "ipython",
    "version": 3
   },
   "file_extension": ".py",
   "mimetype": "text/x-python",
   "name": "python",
   "nbconvert_exporter": "python",
   "pygments_lexer": "ipython3",
   "version": "3.12.4"
  }
 },
 "nbformat": 4,
 "nbformat_minor": 5
}
