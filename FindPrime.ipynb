{
 "cells": [
  {
   "cell_type": "code",
   "execution_count": 2,
   "id": "033d0d57-26e8-4511-a558-e44b0d61993a",
   "metadata": {},
   "outputs": [
    {
     "name": "stdin",
     "output_type": "stream",
     "text": [
      "یک عدد وارد کنید:  50\n"
     ]
    },
    {
     "name": "stdout",
     "output_type": "stream",
     "text": [
      "2\n",
      "3\n",
      "5\n",
      "7\n",
      "11\n",
      "13\n",
      "17\n",
      "19\n",
      "23\n",
      "29\n",
      "31\n",
      "37\n",
      "41\n",
      "43\n",
      "47\n"
     ]
    }
   ],
   "source": [
    "limit = int(input(\"یک عدد وارد کنید: \"))\n",
    "for num in range(2, limit + 1):\n",
    "    is_prime = True\n",
    "    for i in range(2, num):\n",
    "        if num % i == 0:\n",
    "            is_prime = False\n",
    "            break\n",
    "    if is_prime:\n",
    "        print(num)\n"
   ]
  },
  {
   "cell_type": "code",
   "execution_count": 3,
   "id": "ac01cbfe-b457-42ec-9f9e-a26c6054c98c",
   "metadata": {},
   "outputs": [
    {
     "name": "stdin",
     "output_type": "stream",
     "text": [
      "یک عدد وارد کنید:  50\n"
     ]
    },
    {
     "name": "stdout",
     "output_type": "stream",
     "text": [
      "2\n",
      "3\n",
      "5\n",
      "7\n",
      "11\n",
      "13\n",
      "17\n",
      "19\n",
      "23\n",
      "29\n",
      "31\n",
      "37\n",
      "41\n",
      "43\n",
      "47\n"
     ]
    }
   ],
   "source": [
    "def print_primes(limit):\n",
    "    for num in range(2, limit + 1):\n",
    "        is_prime = True\n",
    "        for i in range(2, num):\n",
    "            if num % i == 0:\n",
    "                is_prime = False\n",
    "                break\n",
    "        if is_prime:\n",
    "            print(num)\n",
    "\n",
    "limit = int(input(\"یک عدد وارد کنید: \"))\n",
    "print_primes(limit)\n"
   ]
  },
  {
   "cell_type": "code",
   "execution_count": 6,
   "id": "be1d8301-cf3b-4032-85a9-d265fd129471",
   "metadata": {},
   "outputs": [
    {
     "name": "stdin",
     "output_type": "stream",
     "text": [
      "یک عدد وارد کنید:  50\n"
     ]
    },
    {
     "name": "stdout",
     "output_type": "stream",
     "text": [
      "[2, 3, 5, 7, 11, 13, 17, 19, 23, 29, 31, 37, 41, 43, 47]\n"
     ]
    }
   ],
   "source": [
    "def p(x):\n",
    "    pri = []\n",
    "    for i in range(2, x + 1):\n",
    "        is_pr = True\n",
    "        for j in range(2, i):\n",
    "            if i % j == 0:\n",
    "                is_pr = False\n",
    "                break\n",
    "        if is_pr:\n",
    "            pri.append(i)\n",
    "    print(pri)\n",
    "\n",
    "x = int(input(\"enter number\"))\n",
    "p(x)\n"
   ]
  },
  {
   "cell_type": "code",
   "execution_count": null,
   "id": "4d6bf86d-79d6-4475-b72b-b7b49f25498c",
   "metadata": {},
   "outputs": [],
   "source": []
  }
 ],
 "metadata": {
  "kernelspec": {
   "display_name": "Python 3 (ipykernel)",
   "language": "python",
   "name": "python3"
  },
  "language_info": {
   "codemirror_mode": {
    "name": "ipython",
    "version": 3
   },
   "file_extension": ".py",
   "mimetype": "text/x-python",
   "name": "python",
   "nbconvert_exporter": "python",
   "pygments_lexer": "ipython3",
   "version": "3.12.4"
  }
 },
 "nbformat": 4,
 "nbformat_minor": 5
}
