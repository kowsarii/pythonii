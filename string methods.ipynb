{
 "cells": [
  {
   "cell_type": "code",
   "execution_count": null,
   "id": "592d1002-c721-47b8-8f9e-a0908b0781d2",
   "metadata": {},
   "outputs": [],
   "source": [
    "#String Methods"
   ]
  },
  {
   "cell_type": "code",
   "execution_count": 15,
   "id": "ba329793-bdef-4744-8ace-2e0368f19fba",
   "metadata": {},
   "outputs": [
    {
     "data": {
      "text/plain": [
       "'HI BAHARE'"
      ]
     },
     "execution_count": 15,
     "metadata": {},
     "output_type": "execute_result"
    }
   ],
   "source": [
    "name='Hi BaharE'\n",
    "name.upper()   #Bedone Print Run Bezan"
   ]
  },
  {
   "cell_type": "code",
   "execution_count": 16,
   "id": "f3b0595a-811e-4ae8-9fb6-112aa1368bbc",
   "metadata": {},
   "outputs": [
    {
     "data": {
      "text/plain": [
       "'hi bahare'"
      ]
     },
     "execution_count": 16,
     "metadata": {},
     "output_type": "execute_result"
    }
   ],
   "source": [
    "name.lower()"
   ]
  },
  {
   "cell_type": "code",
   "execution_count": 17,
   "id": "a121b167-bc1e-4870-bc5b-c928e5258ef2",
   "metadata": {},
   "outputs": [
    {
     "data": {
      "text/plain": [
       "'Hi Bahare'"
      ]
     },
     "execution_count": 17,
     "metadata": {},
     "output_type": "execute_result"
    }
   ],
   "source": [
    "name.title()"
   ]
  },
  {
   "cell_type": "code",
   "execution_count": 18,
   "id": "61ee88fd-d508-4b63-bfee-888679b91f19",
   "metadata": {},
   "outputs": [
    {
     "data": {
      "text/plain": [
       "'Hi bahare'"
      ]
     },
     "execution_count": 18,
     "metadata": {},
     "output_type": "execute_result"
    }
   ],
   "source": [
    "name.capitalize()"
   ]
  },
  {
   "cell_type": "code",
   "execution_count": 24,
   "id": "db3e4203-6e8a-49d4-ac20-1f892f966c76",
   "metadata": {},
   "outputs": [
    {
     "data": {
      "text/plain": [
       "'Salam BaharE'"
      ]
     },
     "execution_count": 24,
     "metadata": {},
     "output_type": "execute_result"
    }
   ],
   "source": [
    "name.replace(\"Hi\" ,\"Salam\")      #Harf 2 ra dar jaye harf 1 mizarad"
   ]
  },
  {
   "cell_type": "code",
   "execution_count": 25,
   "id": "02784071-d82c-4713-abf0-6d2b7b7a52bf",
   "metadata": {},
   "outputs": [
    {
     "data": {
      "text/plain": [
       "['Hi', 'BaharE']"
      ]
     },
     "execution_count": 25,
     "metadata": {},
     "output_type": "execute_result"
    }
   ],
   "source": [
    "name.split()"
   ]
  },
  {
   "cell_type": "code",
   "execution_count": 27,
   "id": "163cba37-6e6c-43f1-9793-a4ee74b86985",
   "metadata": {},
   "outputs": [
    {
     "data": {
      "text/plain": [
       "'H___i___ ___B___a___h___a___r___E'"
      ]
     },
     "execution_count": 27,
     "metadata": {},
     "output_type": "execute_result"
    }
   ],
   "source": [
    "\"___\".join(name)"
   ]
  },
  {
   "cell_type": "code",
   "execution_count": 29,
   "id": "946a72d0-1c7e-43f4-944c-f51d6a378677",
   "metadata": {},
   "outputs": [
    {
     "data": {
      "text/plain": [
       "0"
      ]
     },
     "execution_count": 29,
     "metadata": {},
     "output_type": "execute_result"
    }
   ],
   "source": [
    "name.find('H')   #index harf xaste shode ra midahad"
   ]
  },
  {
   "cell_type": "code",
   "execution_count": 30,
   "id": "d3db7499-1dd7-4b70-8f72-3d79c6e7ef60",
   "metadata": {},
   "outputs": [
    {
     "data": {
      "text/plain": [
       "2"
      ]
     },
     "execution_count": 30,
     "metadata": {},
     "output_type": "execute_result"
    }
   ],
   "source": [
    "name.count(\"a\")"
   ]
  },
  {
   "cell_type": "code",
   "execution_count": 32,
   "id": "28c387e3-9b6b-403d-bd83-f58428f56f98",
   "metadata": {},
   "outputs": [
    {
     "data": {
      "text/plain": [
       "False"
      ]
     },
     "execution_count": 32,
     "metadata": {},
     "output_type": "execute_result"
    }
   ],
   "source": [
    "name.startswith('h')"
   ]
  },
  {
   "cell_type": "code",
   "execution_count": 33,
   "id": "7284f4c8-4cb1-4b0f-a3ea-e0633e9fb4da",
   "metadata": {},
   "outputs": [
    {
     "data": {
      "text/plain": [
       "True"
      ]
     },
     "execution_count": 33,
     "metadata": {},
     "output_type": "execute_result"
    }
   ],
   "source": [
    "name.endswith(\"E\")"
   ]
  },
  {
   "cell_type": "code",
   "execution_count": 35,
   "id": "601df275-609c-43db-a22a-0c71c6dc64c1",
   "metadata": {},
   "outputs": [
    {
     "data": {
      "text/plain": [
       "'Hi Khobi'"
      ]
     },
     "execution_count": 35,
     "metadata": {},
     "output_type": "execute_result"
    }
   ],
   "source": [
    "name.replace('BaharE' ,'khobi').title()"
   ]
  },
  {
   "cell_type": "code",
   "execution_count": null,
   "id": "0e17a18e-d4e9-457c-8cce-073abd00edcb",
   "metadata": {},
   "outputs": [],
   "source": [
    "#نام و فامیلی را از کاربر گرفته به صورت حدا و در اخر بهم بچسبانید و حروف اول انها را بزرگ کنید"
   ]
  },
  {
   "cell_type": "code",
   "execution_count": null,
   "id": "4ffdc760-1990-4782-b6a5-a985fd450ed1",
   "metadata": {},
   "outputs": [],
   "source": [
    "name=input('enter your name')\n",
    "family=input('enter your family')\n",
    "fullname=[name,family]\n",
    "\" \".join(fullname).title("
   ]
  }
 ],
 "metadata": {
  "kernelspec": {
   "display_name": "Python 3 (ipykernel)",
   "language": "python",
   "name": "python3"
  },
  "language_info": {
   "codemirror_mode": {
    "name": "ipython",
    "version": 3
   },
   "file_extension": ".py",
   "mimetype": "text/x-python",
   "name": "python",
   "nbconvert_exporter": "python",
   "pygments_lexer": "ipython3",
   "version": "3.12.4"
  }
 },
 "nbformat": 4,
 "nbformat_minor": 5
}
