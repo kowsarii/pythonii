{
 "cells": [
  {
   "cell_type": "code",
   "execution_count": 1,
   "id": "debbdeae-a17b-4a19-aa4f-1aa6afd9147c",
   "metadata": {},
   "outputs": [
    {
     "name": "stdout",
     "output_type": "stream",
     "text": [
      "1\n",
      "2\n",
      "3\n",
      "4\n",
      "5\n",
      "6\n",
      "7\n",
      "8\n",
      "9\n",
      "10\n"
     ]
    }
   ],
   "source": [
    "i=1\n",
    "while i<=10 :\n",
    "    print(i)\n",
    "    i+=1"
   ]
  },
  {
   "cell_type": "code",
   "execution_count": 3,
   "id": "58827a58-f8bd-43cd-b4df-f1e60bd66cd6",
   "metadata": {},
   "outputs": [
    {
     "name": "stdout",
     "output_type": "stream",
     "text": [
      "10\n",
      "9\n",
      "8\n",
      "7\n",
      "6\n",
      "5\n",
      "4\n",
      "3\n",
      "2\n",
      "1\n"
     ]
    }
   ],
   "source": [
    "i=10\n",
    "while i>=1:\n",
    "    print(i)\n",
    "    i-=1"
   ]
  },
  {
   "cell_type": "code",
   "execution_count": 7,
   "id": "4ed4ea2d-63eb-4a70-a4ff-2b6bf35dec49",
   "metadata": {},
   "outputs": [
    {
     "name": "stdout",
     "output_type": "stream",
     "text": [
      "[0, 1, 2, 3, 4, 5, 6, 7, 8, 9, 10, 11, 12, 13, 14, 15, 16, 17, 18, 19, 20, 21, 22, 23, 24, 25, 26, 27, 28, 29, 30, 31, 32, 33, 34, 35, 36, 37, 38, 39, 40, 41, 42, 43, 44, 45, 46, 47, 48, 49, 50]\n"
     ]
    }
   ],
   "source": [
    "event=[]\n",
    "i=0\n",
    "while i*2<=100:\n",
    "    event.append(i)\n",
    "    i+=1\n",
    "print(event)    "
   ]
  },
  {
   "cell_type": "code",
   "execution_count": 9,
   "id": "4e5b4e4d-bfc0-4d52-8e40-8ad4d2d99f24",
   "metadata": {},
   "outputs": [
    {
     "name": "stdout",
     "output_type": "stream",
     "text": [
      "[3, 6, 9, 12, 15, 18, 21, 24, 27, 30, 33, 36, 39, 42, 45, 48, 51, 54, 57, 60, 63, 66, 69, 72, 75, 78, 81, 84, 87, 90, 93, 96, 99]\n"
     ]
    }
   ],
   "source": [
    "event=[]\n",
    "i=3\n",
    "while i<=100:\n",
    "    event.append(i)\n",
    "    i+=3\n",
    "print(event) \n"
   ]
  },
  {
   "cell_type": "code",
   "execution_count": 10,
   "id": "4378aa60-8047-470a-aef0-889e22c65a6b",
   "metadata": {},
   "outputs": [
    {
     "name": "stdout",
     "output_type": "stream",
     "text": [
      "[100, 95, 90, 85, 80, 75, 70, 65, 60, 55, 50, 45, 40, 35, 30, 25, 20, 15, 10, 5]\n"
     ]
    }
   ],
   "source": [
    "event=[]\n",
    "i=100\n",
    "while i>=5 :\n",
    "    event.append(i)\n",
    "    i-=5\n",
    "print(event)    "
   ]
  },
  {
   "cell_type": "code",
   "execution_count": 15,
   "id": "c4c32bc8-9b17-4df3-80ff-3ab9da6bc282",
   "metadata": {},
   "outputs": [
    {
     "name": "stdin",
     "output_type": "stream",
     "text": [
      "enter your num 200\n"
     ]
    },
    {
     "name": "stdout",
     "output_type": "stream",
     "text": [
      "[36, 42, 48, 54, 60, 66, 72, 78, 84, 90, 96, 102, 108, 114, 120, 126, 132, 138, 144, 150, 156, 162, 168, 174, 180, 186, 192, 198]\n"
     ]
    }
   ],
   "source": [
    "value=int(input(\"enter your num\"))\n",
    "a=value//6\n",
    "resualt=[]\n",
    "i=6\n",
    "while i<=a:\n",
    "    resualt.append(i*6)\n",
    "    i+=1\n",
    "print(resualt)    \n",
    "    "
   ]
  },
  {
   "cell_type": "code",
   "execution_count": null,
   "id": "44dc0463-d04c-4641-bef2-9dde0a42dcba",
   "metadata": {},
   "outputs": [],
   "source": [
    "event=[]\n",
    "i=6\n",
    "a=int(input(\"enter your num\"))\n",
    "while i<=a"
   ]
  }
 ],
 "metadata": {
  "kernelspec": {
   "display_name": "Python 3 (ipykernel)",
   "language": "python",
   "name": "python3"
  },
  "language_info": {
   "codemirror_mode": {
    "name": "ipython",
    "version": 3
   },
   "file_extension": ".py",
   "mimetype": "text/x-python",
   "name": "python",
   "nbconvert_exporter": "python",
   "pygments_lexer": "ipython3",
   "version": "3.12.4"
  }
 },
 "nbformat": 4,
 "nbformat_minor": 5
}
