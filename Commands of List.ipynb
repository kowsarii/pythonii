{
 "cells": [
  {
   "cell_type": "code",
   "execution_count": 14,
   "id": "1da4926b-f635-413b-9093-f388c4e2eca5",
   "metadata": {},
   "outputs": [
    {
     "name": "stdout",
     "output_type": "stream",
     "text": [
      "[4, 9, 89, 5, 6, 7, 8] ['apple', 'blue'] ['apple', 4, 5, '8', 6, 'blue']\n"
     ]
    }
   ],
   "source": [
    "'this is list'\n",
    "aa=[4,9,89,5,6,7,8]\n",
    "b=['apple','blue']\n",
    "c=['apple',4,5,'8',6,'blue']\n",
    "print(aa,b,c)"
   ]
  },
  {
   "cell_type": "code",
   "execution_count": 5,
   "id": "bd2bd477-44ed-4021-9993-08e4ace1a25b",
   "metadata": {},
   "outputs": [
    {
     "data": {
      "text/plain": [
       "[1, 1, 1, 11, 2, 2, 3, 4, 5, 6, 7, 8, 'blue', 'yellow', 'python', 'learn']"
      ]
     },
     "execution_count": 5,
     "metadata": {},
     "output_type": "execute_result"
    }
   ],
   "source": [
    "'Command of List'\n",
    "a=[1,1,1,11,2,2,3,4,5,6,7,8,'blue','yellow','python']\n",
    "\n",
    "a.append('learn')\n",
    "a"
   ]
  },
  {
   "cell_type": "code",
   "execution_count": 6,
   "id": "ebc74346-e8b7-4757-a5f5-380645ea2e9d",
   "metadata": {},
   "outputs": [
    {
     "data": {
      "text/plain": [
       "[1, 1, 1, 44, 11, 2, 2, 3, 4, 5, 6, 7, 8, 'blue', 'yellow', 'python', 'learn']"
      ]
     },
     "execution_count": 6,
     "metadata": {},
     "output_type": "execute_result"
    }
   ],
   "source": [
    "a.insert(3,44)\n",
    "a\n"
   ]
  },
  {
   "cell_type": "code",
   "execution_count": 7,
   "id": "e1eeec79-4d87-4f8b-a9e0-84d31b27f4c1",
   "metadata": {},
   "outputs": [
    {
     "data": {
      "text/plain": [
       "[1, 1, 1, 44, 11, 2, 2, 3, 4, 5, 6, 7, 'blue', 'yellow', 'python', 'learn']"
      ]
     },
     "execution_count": 7,
     "metadata": {},
     "output_type": "execute_result"
    }
   ],
   "source": [
    "a.remove(8)\n",
    "a"
   ]
  },
  {
   "cell_type": "code",
   "execution_count": 8,
   "id": "52c8039c-efc7-4b05-8075-414b0a86e1b0",
   "metadata": {},
   "outputs": [
    {
     "data": {
      "text/plain": [
       "[1, 1, 1, 44, 11, 2, 2, 3, 4, 5, 6, 7, 'blue', 'yellow', 'python']"
      ]
     },
     "execution_count": 8,
     "metadata": {},
     "output_type": "execute_result"
    }
   ],
   "source": [
    "a.pop(-1)\n",
    "a"
   ]
  },
  {
   "cell_type": "code",
   "execution_count": 9,
   "id": "f880ba75-6a77-4f43-8a90-b91682ebd8f9",
   "metadata": {},
   "outputs": [
    {
     "data": {
      "text/plain": [
       "14"
      ]
     },
     "execution_count": 9,
     "metadata": {},
     "output_type": "execute_result"
    }
   ],
   "source": [
    "a.index('python')"
   ]
  },
  {
   "cell_type": "code",
   "execution_count": 17,
   "id": "86cf21e3-3b6d-48a7-be0f-26de832dab9e",
   "metadata": {},
   "outputs": [
    {
     "data": {
      "text/plain": [
       "[4, 5, 6, 7, 8, 9, 89]"
      ]
     },
     "execution_count": 17,
     "metadata": {},
     "output_type": "execute_result"
    }
   ],
   "source": [
    "aa.sort()    //مرتب سازی\n",
    "aa"
   ]
  },
  {
   "cell_type": "code",
   "execution_count": 18,
   "id": "8c35679b-fef2-42e4-82a1-e8bb4f8ba554",
   "metadata": {},
   "outputs": [
    {
     "data": {
      "text/plain": [
       "['python', 'yellow', 'blue', 44, 11, 7, 6, 5, 4, 3, 2, 2, 1, 1, 1]"
      ]
     },
     "execution_count": 18,
     "metadata": {},
     "output_type": "execute_result"
    }
   ],
   "source": [
    "a.reverse()   //برعکس کردن اعضا\n",
    "a\n"
   ]
  },
  {
   "cell_type": "code",
   "execution_count": 19,
   "id": "b13f259c-3862-44b6-a286-b890b634e808",
   "metadata": {},
   "outputs": [
    {
     "data": {
      "text/plain": [
       "3"
      ]
     },
     "execution_count": 19,
     "metadata": {},
     "output_type": "execute_result"
    }
   ],
   "source": [
    "a.count(1)   //شمارش تعداد عدد دلخواه"
   ]
  },
  {
   "cell_type": "code",
   "execution_count": 22,
   "id": "9acca785-b3af-489b-baa4-0081eb9a7aa1",
   "metadata": {},
   "outputs": [
    {
     "data": {
      "text/plain": [
       "15"
      ]
     },
     "execution_count": 22,
     "metadata": {},
     "output_type": "execute_result"
    }
   ],
   "source": [
    "len(a)"
   ]
  },
  {
   "cell_type": "code",
   "execution_count": null,
   "id": "9190556f-3bf2-4a16-94e3-2be64fa67970",
   "metadata": {},
   "outputs": [],
   "source": []
  }
 ],
 "metadata": {
  "kernelspec": {
   "display_name": "Python 3 (ipykernel)",
   "language": "python",
   "name": "python3"
  },
  "language_info": {
   "codemirror_mode": {
    "name": "ipython",
    "version": 3
   },
   "file_extension": ".py",
   "mimetype": "text/x-python",
   "name": "python",
   "nbconvert_exporter": "python",
   "pygments_lexer": "ipython3",
   "version": "3.12.4"
  }
 },
 "nbformat": 4,
 "nbformat_minor": 5
}
