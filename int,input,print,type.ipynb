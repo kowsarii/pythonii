{
 "cells": [
  {
   "cell_type": "code",
   "execution_count": 2,
   "id": "9b499b68-4cd3-4d9c-8c0f-5584bb477989",
   "metadata": {},
   "outputs": [
    {
     "data": {
      "text/plain": [
       "str"
      ]
     },
     "execution_count": 2,
     "metadata": {},
     "output_type": "execute_result"
    }
   ],
   "source": [
    "city=\"Tabriz\"\n",
    "type(city)\n"
   ]
  },
  {
   "cell_type": "code",
   "execution_count": 4,
   "id": "7c2a3bc6-18f5-4fc9-a5fb-ca57d655d96c",
   "metadata": {},
   "outputs": [
    {
     "data": {
      "text/plain": [
       "int"
      ]
     },
     "execution_count": 4,
     "metadata": {},
     "output_type": "execute_result"
    }
   ],
   "source": [
    "age=12\n",
    "type(age)\n"
   ]
  },
  {
   "cell_type": "code",
   "execution_count": 5,
   "id": "60fbc2fc-5f3d-4f80-86f5-bc09805c5be7",
   "metadata": {},
   "outputs": [
    {
     "name": "stdout",
     "output_type": "stream",
     "text": [
      "Tabriz1\n"
     ]
    }
   ],
   "source": [
    "City=\"Tabriz1\"\n",
    "city=\"Tabriz\"\n",
    "print(City)"
   ]
  },
  {
   "cell_type": "code",
   "execution_count": 6,
   "id": "2e96ed41-babc-4757-82ae-db2e85df755e",
   "metadata": {},
   "outputs": [
    {
     "name": "stdout",
     "output_type": "stream",
     "text": [
      "Tabriz\n"
     ]
    }
   ],
   "source": [
    "print(city)"
   ]
  },
  {
   "cell_type": "code",
   "execution_count": 7,
   "id": "62c313c5-2f9a-43b6-aaef-473ce82db368",
   "metadata": {},
   "outputs": [
    {
     "name": "stdout",
     "output_type": "stream",
     "text": [
      "22\n"
     ]
    }
   ],
   "source": [
    "age=22\n",
    "print(age)"
   ]
  },
  {
   "cell_type": "code",
   "execution_count": 12,
   "id": "dd72e6cf-59cd-438f-8310-13001961dfde",
   "metadata": {},
   "outputs": [
    {
     "name": "stdout",
     "output_type": "stream",
     "text": [
      "sene shoma: 22 shoma          dahe 80 hasti\n"
     ]
    }
   ],
   "source": [
    "age=1381\n",
    "saletavalod=1403-age\n",
    "print(\"sene shoma:\", saletavalod,'shoma dahe 80 hasti')"
   ]
  },
  {
   "cell_type": "code",
   "execution_count": 13,
   "id": "01bce628-f0ad-4456-9db2-21f9fb24181d",
   "metadata": {},
   "outputs": [
    {
     "name": "stdin",
     "output_type": "stream",
     "text": [
      "کاربر گرامی لطفا نام خود را وارد کنید بهاره\n"
     ]
    },
    {
     "name": "stdout",
     "output_type": "stream",
     "text": [
      "بهاره\n"
     ]
    }
   ],
   "source": [
    "name=input(\"کاربر گرامی لطفا نام خود را وارد کنید\")\n",
    "print(name)"
   ]
  },
  {
   "cell_type": "code",
   "execution_count": 14,
   "id": "105b4689-5bd1-4a77-b1a0-9374b7c00391",
   "metadata": {},
   "outputs": [
    {
     "name": "stdin",
     "output_type": "stream",
     "text": [
      "enter your age 22\n"
     ]
    },
    {
     "name": "stdout",
     "output_type": "stream",
     "text": [
      "22\n"
     ]
    }
   ],
   "source": [
    "age=input(\"enter your age\")\n",
    "print(age)"
   ]
  },
  {
   "cell_type": "code",
   "execution_count": 15,
   "id": "4d290606-c948-4b82-a33c-f004f955b08e",
   "metadata": {},
   "outputs": [
    {
     "name": "stdin",
     "output_type": "stream",
     "text": [
      "enter your age year 1381\n"
     ]
    },
    {
     "ename": "TypeError",
     "evalue": "unsupported operand type(s) for -: 'int' and 'str'",
     "output_type": "error",
     "traceback": [
      "\u001b[1;31m---------------------------------------------------------------------------\u001b[0m",
      "\u001b[1;31mTypeError\u001b[0m                                 Traceback (most recent call last)",
      "Cell \u001b[1;32mIn[15], line 2\u001b[0m\n\u001b[0;32m      1\u001b[0m age\u001b[38;5;241m=\u001b[39m\u001b[38;5;28minput\u001b[39m(\u001b[38;5;124m\"\u001b[39m\u001b[38;5;124menter your age year\u001b[39m\u001b[38;5;124m\"\u001b[39m)\n\u001b[1;32m----> 2\u001b[0m saletavalod\u001b[38;5;241m=\u001b[39m\u001b[38;5;241m1403\u001b[39m\u001b[38;5;241m-\u001b[39mage\n\u001b[0;32m      3\u001b[0m \u001b[38;5;28mprint\u001b[39m(saletavalod)\n",
      "\u001b[1;31mTypeError\u001b[0m: unsupported operand type(s) for -: 'int' and 'str'"
     ]
    }
   ],
   "source": [
    "age=input(\"enter your age year\")\n",
    "saletavalod=1403-age\n",
    "print(saletavalod)   //در اینجا اگر ورودی ما عدد است باید (int) بزاریم تا به عدد تبدیل شود"
   ]
  },
  {
   "cell_type": "code",
   "execution_count": 2,
   "id": "4a08e76b-1ec0-4413-b61f-3d0ff64cf511",
   "metadata": {},
   "outputs": [
    {
     "name": "stdin",
     "output_type": "stream",
     "text": [
      "enter your age year 1381\n"
     ]
    },
    {
     "name": "stdout",
     "output_type": "stream",
     "text": [
      "22\n"
     ]
    }
   ],
   "source": [
    "age=int(input(\"enter your age year\"))\n",
    "saletavalod=1403-age\n",
    "print(saletavalod)"
   ]
  },
  {
   "cell_type": "code",
   "execution_count": 16,
   "id": "b251f894-c3f4-4605-8887-adf869072831",
   "metadata": {},
   "outputs": [
    {
     "name": "stdin",
     "output_type": "stream",
     "text": [
      " 1\n"
     ]
    },
    {
     "data": {
      "text/plain": [
       "str"
      ]
     },
     "execution_count": 16,
     "metadata": {},
     "output_type": "execute_result"
    }
   ],
   "source": [
    "age=input()\n",
    "type(age)"
   ]
  },
  {
   "cell_type": "code",
   "execution_count": null,
   "id": "d2573698-0fd1-44c3-b4e9-4e824083572a",
   "metadata": {},
   "outputs": [],
   "source": []
  }
 ],
 "metadata": {
  "kernelspec": {
   "display_name": "Python 3 (ipykernel)",
   "language": "python",
   "name": "python3"
  },
  "language_info": {
   "codemirror_mode": {
    "name": "ipython",
    "version": 3
   },
   "file_extension": ".py",
   "mimetype": "text/x-python",
   "name": "python",
   "nbconvert_exporter": "python",
   "pygments_lexer": "ipython3",
   "version": "3.12.4"
  }
 },
 "nbformat": 4,
 "nbformat_minor": 5
}
