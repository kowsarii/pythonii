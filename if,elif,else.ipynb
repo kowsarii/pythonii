{
 "cells": [
  {
   "cell_type": "code",
   "execution_count": null,
   "id": "672f60a0-38f7-4425-9646-671d6294a6c5",
   "metadata": {},
   "outputs": [],
   "source": [
    "#if,elif,else"
   ]
  },
  {
   "cell_type": "code",
   "execution_count": 2,
   "id": "997142a4-53c4-478a-a06b-f24338d019a2",
   "metadata": {},
   "outputs": [
    {
     "name": "stdin",
     "output_type": "stream",
     "text": [
      "enter your weight 60\n"
     ]
    },
    {
     "name": "stdout",
     "output_type": "stream",
     "text": [
      "you are fat\n"
     ]
    }
   ],
   "source": [
    "weight=int(input(\"enter your weight\"))\n",
    "if weight<60:\n",
    "    print(\"you are is normal\")\n",
    "elif weight>=60:\n",
    "    print(\"you are fat\")"
   ]
  },
  {
   "cell_type": "code",
   "execution_count": 7,
   "id": "61a79db2-1b60-4ddc-998f-a3d3aa0d35c0",
   "metadata": {},
   "outputs": [
    {
     "name": "stdin",
     "output_type": "stream",
     "text": [
      "enter your age 12\n"
     ]
    },
    {
     "name": "stdout",
     "output_type": "stream",
     "text": [
      "you are a teen\n"
     ]
    }
   ],
   "source": [
    "age=int(input(\"enter your age\"))\n",
    "if age<=9 and age>=0:\n",
    "    print(\"you are child\")\n",
    "        \n",
    "elif age>9 and age<16:\n",
    "    print(\"you are a teen\")\n",
    "    \n",
    "elif age>=16 and age<24:\n",
    "    print(\"you are a young\")\n",
    "        "
   ]
  },
  {
   "cell_type": "code",
   "execution_count": null,
   "id": "37ce83df-5a8f-4bd0-8fd9-a70493ece22a",
   "metadata": {},
   "outputs": [],
   "source": [
    "number=[]\n",
    "i=1\n",
    "while i<=100:\n",
    "    number.append(i)\n",
    "    i+=1\n",
    "for x in number:\n",
    "    if x<10:\n",
    "        print(x,\"Tak raghami\")\n",
    "    elif x>=99:\n",
    "        print(x,\"Do raghami\"\n",
    "\n"
   ]
  }
 ],
 "metadata": {
  "kernelspec": {
   "display_name": "Python 3 (ipykernel)",
   "language": "python",
   "name": "python3"
  },
  "language_info": {
   "codemirror_mode": {
    "name": "ipython",
    "version": 3
   },
   "file_extension": ".py",
   "mimetype": "text/x-python",
   "name": "python",
   "nbconvert_exporter": "python",
   "pygments_lexer": "ipython3",
   "version": "3.12.4"
  }
 },
 "nbformat": 4,
 "nbformat_minor": 5
}
